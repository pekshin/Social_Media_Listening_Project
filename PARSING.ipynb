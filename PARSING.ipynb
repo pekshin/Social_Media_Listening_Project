{
 "cells": [
  {
   "cell_type": "code",
   "execution_count": 34,
   "metadata": {},
   "outputs": [],
   "source": [
    "import requests\n",
    "# pip install requests\n",
    "\n",
    "from bs4 import BeautifulSoup\n",
    "# pip install beautifulsoup\n",
    "\n",
    "import csv\n",
    "\n",
    "from datetime import datetime\n",
    "\n",
    "from multiprocessing import Pool"
   ]
  },
  {
   "cell_type": "code",
   "execution_count": 35,
   "metadata": {},
   "outputs": [],
   "source": [
    "def get_html(url):\n",
    "    r = requests.get(url) # Response\n",
    "    return r.text         # возвращает html_code страницы\n",
    "\n",
    "def get_all_links(html):\n",
    "    soup = BeautifulSoup(html, 'lxml')\n",
    "    \n",
    "    tds = soup.find('table', id=\"currencies-all\").find_all('td', class_=\"currency-name\")\n",
    "    \n",
    "    links = []\n",
    "    \n",
    "    for td in tds:\n",
    "        a = td.find('a').get('href')   # string\n",
    "        link = 'https://coinmarketcap.com' + a         #/currencies/bitcoin/\n",
    "        links.append(link)\n",
    "    return links"
   ]
  },
  {
   "cell_type": "code",
   "execution_count": 36,
   "metadata": {},
   "outputs": [],
   "source": [
    "def get_page_data(html):\n",
    "    soup = BeautifulSoup(html, 'lxml')\n",
    "    \n",
    "    try:\n",
    "        h1 = soup.find('h1', class_=\"details-panel-item--name\").text.strip()\n",
    "    except:\n",
    "        h1 = ''      # если нет объектов - оставить пустой\n",
    "        \n",
    "    #ALTERNATIVE     __h1\n",
    "    #   h1 = soup.find('h1', class_=\"details-panel-item--name\").text.strip()   - \n",
    "    \n",
    "    try:\n",
    "        price = soup.find('span', id=\"quote_price\").text.strip()  \n",
    "    except:\n",
    "        price = ''\n",
    "        \n",
    "    #ALTERNATIVE      __price\n",
    "    #   price = soup.find('span', id=\"quote_price\").text_strip\n",
    "    \n",
    "    data = {'name' : h1,\n",
    "            'price': price}       # создание словаря {\"ключ\": данные}\n",
    "    \n",
    "    return data\n",
    "\n",
    "\n",
    "\n",
    "\n",
    "def make_all(url):\n",
    "    html = get_html(url)\n",
    "    data = get_page_data(html)\n",
    "    write_csv(data)\n",
    "    "
   ]
  },
  {
   "cell_type": "code",
   "execution_count": 37,
   "metadata": {},
   "outputs": [],
   "source": [
    "def write_csv(data):\n",
    "    with open('parsed_data_name.csv', 'a') as f:       # 'a' - append;   f - переменная\n",
    "        writer = csv.writer(f)\n",
    "        \n",
    "        writer.writerow( (data['name'],\n",
    "                          data['price']) )\n",
    "        print(data['name'],\"parsed\")\n",
    "    "
   ]
  },
  {
   "cell_type": "code",
   "execution_count": null,
   "metadata": {},
   "outputs": [],
   "source": [
    "def main():\n",
    "    \n",
    "    start = datetime.now()\n",
    "    \n",
    "    url = 'https://coinmarketcap.com/all/views/all/'\n",
    "\n",
    "    all_links = get_all_links( get_html(url) )\n",
    "    \n",
    "    \n",
    "    \n",
    "    with Pool(5) as p:\n",
    "        p.map(make_all, all_links)\n",
    "    \n",
    "    end = datetime.now()\n",
    "    \n",
    "    total = end - start\n",
    "    print(str(total))\n",
    "    \n",
    "if __name__ == '__main__':\n",
    "    main()"
   ]
  }
 ],
 "metadata": {
  "kernelspec": {
   "display_name": "Python 3",
   "language": "python",
   "name": "python3"
  },
  "language_info": {
   "codemirror_mode": {
    "name": "ipython",
    "version": 3
   },
   "file_extension": ".py",
   "mimetype": "text/x-python",
   "name": "python",
   "nbconvert_exporter": "python",
   "pygments_lexer": "ipython3",
   "version": "3.6.5"
  }
 },
 "nbformat": 4,
 "nbformat_minor": 2
}
